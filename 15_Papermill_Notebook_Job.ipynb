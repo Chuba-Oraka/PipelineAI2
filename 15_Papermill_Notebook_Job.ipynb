{
 "cells": [
  {
   "cell_type": "code",
   "execution_count": 1,
   "metadata": {},
   "outputs": [
    {
     "name": "stdout",
     "output_type": "stream",
     "text": [
      "1.0.1 from /opt/conda/lib/python3.6/site-packages/papermill/cli.py (3.6.8)\r\n"
     ]
    }
   ],
   "source": [
    "!papermill --version"
   ]
  },
  {
   "cell_type": "code",
   "execution_count": 2,
   "metadata": {},
   "outputs": [
    {
     "data": {
      "application/vnd.jupyter.widget-view+json": {
       "model_id": "9896f04c7af744b2864976698d417d03",
       "version_major": 2,
       "version_minor": 0
      },
      "text/plain": [
       "HBox(children=(IntProgress(value=0, max=11), HTML(value='')))"
      ]
     },
     "metadata": {},
     "output_type": "display_data"
    },
    {
     "name": "stdout",
     "output_type": "stream",
     "text": [
      "\n"
     ]
    },
    {
     "data": {
      "text/plain": [
       "{'cells': [{'cell_type': 'code',\n",
       "   'execution_count': 1,\n",
       "   'metadata': {'tags': [],\n",
       "    'papermill': {'exception': False,\n",
       "     'start_time': '2019-08-19T17:01:38.069781',\n",
       "     'end_time': '2019-08-19T17:01:39.338343',\n",
       "     'duration': 1.268562,\n",
       "     'status': 'completed'}},\n",
       "   'outputs': [],\n",
       "   'source': '# The data set used in this example is from http://archive.ics.uci.edu/ml/datasets/Wine+Quality\\n# P. Cortez, A. Cerdeira, F. Almeida, T. Matos and J. Reis.\\n# Modeling wine preferences by data mining from physicochemical properties. In Decision Support Systems, Elsevier, 47(4):547-553, 2009.\\n\\nimport os\\nimport warnings\\nimport sys\\n\\nimport pandas as pd\\nimport numpy as np\\nfrom sklearn.metrics import mean_squared_error, mean_absolute_error, r2_score\\nfrom sklearn.model_selection import train_test_split\\nfrom sklearn.linear_model import ElasticNet\\n\\nimport mlflow\\nimport mlflow.sklearn\\n\\nnp.random.seed(40)\\nwarnings.filterwarnings(\"ignore\")'},\n",
       "  {'cell_type': 'markdown',\n",
       "   'metadata': {'tags': [],\n",
       "    'papermill': {'exception': False,\n",
       "     'start_time': '2019-08-19T17:01:39.351153',\n",
       "     'end_time': '2019-08-19T17:01:39.358657',\n",
       "     'duration': 0.007504,\n",
       "     'status': 'completed'}},\n",
       "   'source': '# Setup Experiment Tracker'},\n",
       "  {'cell_type': 'code',\n",
       "   'execution_count': 2,\n",
       "   'metadata': {'tags': [],\n",
       "    'papermill': {'exception': False,\n",
       "     'start_time': '2019-08-19T17:01:39.365477',\n",
       "     'end_time': '2019-08-19T17:01:39.386775',\n",
       "     'duration': 0.021298,\n",
       "     'status': 'completed'}},\n",
       "   'outputs': [],\n",
       "   'source': \"tracking_uri='file:///mnt/pipelineai/users/experiments'\\nmlflow.set_tracking_uri(tracking_uri)\\n\\nexperiment_name = 'wine'\\nmlflow.set_experiment(experiment_name)    \"},\n",
       "  {'cell_type': 'markdown',\n",
       "   'metadata': {'tags': [],\n",
       "    'papermill': {'exception': False,\n",
       "     'start_time': '2019-08-19T17:01:39.392845',\n",
       "     'end_time': '2019-08-19T17:01:39.398715',\n",
       "     'duration': 0.00587,\n",
       "     'status': 'completed'}},\n",
       "   'source': '# Import Training Data'},\n",
       "  {'cell_type': 'code',\n",
       "   'execution_count': 3,\n",
       "   'metadata': {'tags': [],\n",
       "    'papermill': {'exception': False,\n",
       "     'start_time': '2019-08-19T17:01:39.404618',\n",
       "     'end_time': '2019-08-19T17:01:39.445820',\n",
       "     'duration': 0.041202,\n",
       "     'status': 'completed'}},\n",
       "   'outputs': [],\n",
       "   'source': '# Read the wine-quality csv file (make sure you\\'re running this from the root of MLflow!)\\nwine_path = \\'./datasets/wine-quality.csv\\'\\ndata = pd.read_csv(wine_path)\\n\\n# Split the data into training and test sets. (0.75, 0.25) split.\\ntrain, test = train_test_split(data)\\n\\n# The predicted column is \"quality\" which is a scalar from [3, 9]\\ntrain_x = train.drop([\"quality\"], axis=1)\\ntest_x = test.drop([\"quality\"], axis=1)\\ntrain_y = train[[\"quality\"]]\\ntest_y = test[[\"quality\"]]'},\n",
       "  {'cell_type': 'markdown',\n",
       "   'metadata': {'tags': [],\n",
       "    'papermill': {'exception': False,\n",
       "     'start_time': '2019-08-19T17:01:39.453274',\n",
       "     'end_time': '2019-08-19T17:01:39.459687',\n",
       "     'duration': 0.006413,\n",
       "     'status': 'completed'}},\n",
       "   'source': '# Start Training Run'},\n",
       "  {'cell_type': 'code',\n",
       "   'execution_count': 4,\n",
       "   'metadata': {'tags': ['parameters'],\n",
       "    'papermill': {'exception': False,\n",
       "     'start_time': '2019-08-19T17:01:39.465827',\n",
       "     'end_time': '2019-08-19T17:01:39.482779',\n",
       "     'duration': 0.016952,\n",
       "     'status': 'completed'}},\n",
       "   'outputs': [],\n",
       "   'source': 'alpha = 0.20\\nl1_ratio = 0.20'},\n",
       "  {'cell_type': 'code',\n",
       "   'metadata': {'tags': ['injected-parameters'],\n",
       "    'papermill': {'exception': False,\n",
       "     'start_time': '2019-08-19T17:01:39.488597',\n",
       "     'end_time': '2019-08-19T17:01:39.504744',\n",
       "     'duration': 0.016147,\n",
       "     'status': 'completed'}},\n",
       "   'execution_count': 5,\n",
       "   'source': '# Parameters\\nalpha = 0.6\\nratio = 0.1\\n',\n",
       "   'outputs': []},\n",
       "  {'cell_type': 'code',\n",
       "   'execution_count': 6,\n",
       "   'metadata': {'tags': [],\n",
       "    'papermill': {'exception': False,\n",
       "     'start_time': '2019-08-19T17:01:39.511108',\n",
       "     'end_time': '2019-08-19T17:01:39.897494',\n",
       "     'duration': 0.386386,\n",
       "     'status': 'completed'}},\n",
       "   'outputs': [{'output_type': 'stream',\n",
       "     'name': 'stdout',\n",
       "     'text': 'Elasticnet model (alpha=0.600000, l1_ratio=0.200000):\\n  RMSE: 0.8052136137150304\\n  MAE: 0.622535932743478\\n  R2: 0.1625823887208505\\n'}],\n",
       "   'source': 'with mlflow.start_run() as run:\\n    lr = ElasticNet(alpha=alpha, l1_ratio=l1_ratio, random_state=42)\\n    lr.fit(train_x, train_y)\\n\\n    predicted_qualities = lr.predict(test_x)\\n\\n    rmse = np.sqrt(mean_squared_error(test_y, predicted_qualities))\\n    mae = mean_absolute_error(test_y, predicted_qualities)\\n    r2 = r2_score(test_y, predicted_qualities)\\n\\n    print(\"Elasticnet model (alpha=%f, l1_ratio=%f):\" % (alpha, l1_ratio))\\n    print(\"  RMSE: %s\" % rmse)\\n    print(\"  MAE: %s\" % mae)\\n    print(\"  R2: %s\" % r2)\\n\\n    # Log Parameters\\n    mlflow.log_param(\"alpha\", alpha)\\n    mlflow.log_param(\"l1_ratio\", l1_ratio)\\n\\n    # Log Metrics\\n    mlflow.log_metric(\"rmse\", rmse)\\n    mlflow.log_metric(\"r2\", r2)\\n    mlflow.log_metric(\"mae\", mae)\\n\\n    # Log Model\\n    mlflow.sklearn.log_model(lr, \"model\")'},\n",
       "  {'cell_type': 'markdown',\n",
       "   'metadata': {'tags': [],\n",
       "    'papermill': {'exception': False,\n",
       "     'start_time': '2019-08-19T17:01:39.905464',\n",
       "     'end_time': '2019-08-19T17:01:39.912335',\n",
       "     'duration': 0.006871,\n",
       "     'status': 'completed'}},\n",
       "   'source': '# Check the MLflow Pipelines Tab\\n![MLflow Pipeline](https://raw.githubusercontent.com/PipelineAI/site/master/assets/img/mlflow-pipeline.png)'},\n",
       "  {'cell_type': 'code',\n",
       "   'execution_count': None,\n",
       "   'metadata': {'tags': [],\n",
       "    'papermill': {'exception': False,\n",
       "     'start_time': '2019-08-19T17:01:39.918686',\n",
       "     'end_time': '2019-08-19T17:01:39.924647',\n",
       "     'duration': 0.005961,\n",
       "     'status': 'completed'}},\n",
       "   'outputs': [],\n",
       "   'source': ''}],\n",
       " 'metadata': {'celltoolbar': 'Tags',\n",
       "  'kernelspec': {'display_name': 'Python 3',\n",
       "   'language': 'python',\n",
       "   'name': 'python3'},\n",
       "  'language_info': {'name': 'python',\n",
       "   'version': '3.6.8',\n",
       "   'mimetype': 'text/x-python',\n",
       "   'codemirror_mode': {'name': 'ipython', 'version': 3},\n",
       "   'pygments_lexer': 'ipython3',\n",
       "   'nbconvert_exporter': 'python',\n",
       "   'file_extension': '.py'},\n",
       "  'papermill': {'parameters': {'alpha': 0.6, 'ratio': 0.1},\n",
       "   'environment_variables': {},\n",
       "   'version': '1.0.1',\n",
       "   'input_path': '14_MLflow_Scikit_Learn.ipynb',\n",
       "   'output_path': 'Generated_14_MLflow_Scikit_Learn_Results_06_01.ipynb',\n",
       "   'start_time': '2019-08-19T17:01:37.267276',\n",
       "   'end_time': '2019-08-19T17:01:40.641478',\n",
       "   'duration': 3.374202,\n",
       "   'exception': None}},\n",
       " 'nbformat': 4,\n",
       " 'nbformat_minor': 2}"
      ]
     },
     "execution_count": 2,
     "metadata": {},
     "output_type": "execute_result"
    }
   ],
   "source": [
    "import papermill as pm\n",
    "\n",
    "pm.execute_notebook(\n",
    "   '14_MLflow_Scikit_Learn.ipynb',\n",
    "   'Generated_14_MLflow_Scikit_Learn_Results_06_01.ipynb',\n",
    "    parameters = dict(alpha=0.6, l1_ratio=0.1)\n",
    ")"
   ]
  },
  {
   "cell_type": "markdown",
   "metadata": {},
   "source": [
    "# View `Generated_14_MLflow_Scikit_Learn_Results_06_01` Notebook"
   ]
  },
  {
   "cell_type": "code",
   "execution_count": 3,
   "metadata": {},
   "outputs": [
    {
     "name": "stdout",
     "output_type": "stream",
     "text": [
      "Input Notebook:  14_MLflow_Scikit_Learn.ipynb\n",
      "Output Notebook: Generated_14_MLflow_Scikit_Learn_Results_02_02.ipynb\n",
      "100%|███████████████████████████████████████████| 11/11 [00:03<00:00,  3.19it/s]\n"
     ]
    }
   ],
   "source": [
    "!papermill 14_MLflow_Scikit_Learn.ipynb Generated_14_MLflow_Scikit_Learn_Results_02_02.ipynb -p alpha 0.2 -p l1_ratio 0.2"
   ]
  },
  {
   "cell_type": "markdown",
   "metadata": {},
   "source": [
    "# View `Generated_14_MLflow_Scikit_Learn_Results_02_02` Notebook"
   ]
  },
  {
   "cell_type": "code",
   "execution_count": null,
   "metadata": {},
   "outputs": [],
   "source": []
  }
 ],
 "metadata": {
  "kernelspec": {
   "display_name": "Python 3",
   "language": "python",
   "name": "python3"
  },
  "language_info": {
   "codemirror_mode": {
    "name": "ipython",
    "version": 3
   },
   "file_extension": ".py",
   "mimetype": "text/x-python",
   "name": "python",
   "nbconvert_exporter": "python",
   "pygments_lexer": "ipython3",
   "version": "3.6.8"
  }
 },
 "nbformat": 4,
 "nbformat_minor": 2
}
