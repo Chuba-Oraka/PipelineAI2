{
 "cells": [
  {
   "cell_type": "code",
   "execution_count": 1,
   "metadata": {
    "papermill": {
     "duration": 1.315836,
     "end_time": "2019-08-19T17:03:11.837302",
     "exception": false,
     "start_time": "2019-08-19T17:03:10.521466",
     "status": "completed"
    },
    "tags": []
   },
   "outputs": [],
   "source": [
    "# The data set used in this example is from http://archive.ics.uci.edu/ml/datasets/Wine+Quality\n",
    "# P. Cortez, A. Cerdeira, F. Almeida, T. Matos and J. Reis.\n",
    "# Modeling wine preferences by data mining from physicochemical properties. In Decision Support Systems, Elsevier, 47(4):547-553, 2009.\n",
    "\n",
    "import os\n",
    "import warnings\n",
    "import sys\n",
    "\n",
    "import pandas as pd\n",
    "import numpy as np\n",
    "from sklearn.metrics import mean_squared_error, mean_absolute_error, r2_score\n",
    "from sklearn.model_selection import train_test_split\n",
    "from sklearn.linear_model import ElasticNet\n",
    "\n",
    "import mlflow\n",
    "import mlflow.sklearn\n",
    "\n",
    "np.random.seed(40)\n",
    "warnings.filterwarnings(\"ignore\")"
   ]
  },
  {
   "cell_type": "markdown",
   "metadata": {
    "papermill": {
     "duration": 0.008349,
     "end_time": "2019-08-19T17:03:11.856255",
     "exception": false,
     "start_time": "2019-08-19T17:03:11.847906",
     "status": "completed"
    },
    "tags": []
   },
   "source": [
    "# Setup Experiment Tracker"
   ]
  },
  {
   "cell_type": "code",
   "execution_count": 2,
   "metadata": {
    "papermill": {
     "duration": 0.022217,
     "end_time": "2019-08-19T17:03:11.886811",
     "exception": false,
     "start_time": "2019-08-19T17:03:11.864594",
     "status": "completed"
    },
    "tags": []
   },
   "outputs": [],
   "source": [
    "tracking_uri='file:///mnt/pipelineai/users/experiments'\n",
    "mlflow.set_tracking_uri(tracking_uri)\n",
    "\n",
    "experiment_name = 'wine'\n",
    "mlflow.set_experiment(experiment_name)    "
   ]
  },
  {
   "cell_type": "markdown",
   "metadata": {
    "papermill": {
     "duration": 0.00568,
     "end_time": "2019-08-19T17:03:11.898836",
     "exception": false,
     "start_time": "2019-08-19T17:03:11.893156",
     "status": "completed"
    },
    "tags": []
   },
   "source": [
    "# Import Training Data"
   ]
  },
  {
   "cell_type": "code",
   "execution_count": 3,
   "metadata": {
    "papermill": {
     "duration": 0.043343,
     "end_time": "2019-08-19T17:03:11.948045",
     "exception": false,
     "start_time": "2019-08-19T17:03:11.904702",
     "status": "completed"
    },
    "tags": []
   },
   "outputs": [],
   "source": [
    "# Read the wine-quality csv file (make sure you're running this from the root of MLflow!)\n",
    "wine_path = './datasets/wine-quality.csv'\n",
    "data = pd.read_csv(wine_path)\n",
    "\n",
    "# Split the data into training and test sets. (0.75, 0.25) split.\n",
    "train, test = train_test_split(data)\n",
    "\n",
    "# The predicted column is \"quality\" which is a scalar from [3, 9]\n",
    "train_x = train.drop([\"quality\"], axis=1)\n",
    "test_x = test.drop([\"quality\"], axis=1)\n",
    "train_y = train[[\"quality\"]]\n",
    "test_y = test[[\"quality\"]]"
   ]
  },
  {
   "cell_type": "markdown",
   "metadata": {
    "papermill": {
     "duration": 0.005968,
     "end_time": "2019-08-19T17:03:11.962971",
     "exception": false,
     "start_time": "2019-08-19T17:03:11.957003",
     "status": "completed"
    },
    "tags": []
   },
   "source": [
    "# Start Training Run"
   ]
  },
  {
   "cell_type": "code",
   "execution_count": 4,
   "metadata": {
    "papermill": {
     "duration": 0.016098,
     "end_time": "2019-08-19T17:03:11.985282",
     "exception": false,
     "start_time": "2019-08-19T17:03:11.969184",
     "status": "completed"
    },
    "tags": [
     "parameters"
    ]
   },
   "outputs": [],
   "source": [
    "alpha = 0.20\n",
    "l1_ratio = 0.20"
   ]
  },
  {
   "cell_type": "code",
   "execution_count": 5,
   "metadata": {
    "papermill": {
     "duration": 0.015211,
     "end_time": "2019-08-19T17:03:12.007927",
     "exception": false,
     "start_time": "2019-08-19T17:03:11.992716",
     "status": "completed"
    },
    "tags": [
     "injected-parameters"
    ]
   },
   "outputs": [],
   "source": [
    "# Parameters\n",
    "alpha = 0.2\n",
    "l1_ratio = 0.2\n"
   ]
  },
  {
   "cell_type": "code",
   "execution_count": 6,
   "metadata": {
    "papermill": {
     "duration": 0.399673,
     "end_time": "2019-08-19T17:03:12.414305",
     "exception": false,
     "start_time": "2019-08-19T17:03:12.014632",
     "status": "completed"
    },
    "tags": []
   },
   "outputs": [
    {
     "name": "stdout",
     "output_type": "stream",
     "text": [
      "Elasticnet model (alpha=0.200000, l1_ratio=0.200000):\n",
      "  RMSE: 0.7859129997062342\n",
      "  MAE: 0.6155290394093895\n",
      "  R2: 0.2022463182289208\n"
     ]
    }
   ],
   "source": [
    "with mlflow.start_run() as run:\n",
    "    lr = ElasticNet(alpha=alpha, l1_ratio=l1_ratio, random_state=42)\n",
    "    lr.fit(train_x, train_y)\n",
    "\n",
    "    predicted_qualities = lr.predict(test_x)\n",
    "\n",
    "    rmse = np.sqrt(mean_squared_error(test_y, predicted_qualities))\n",
    "    mae = mean_absolute_error(test_y, predicted_qualities)\n",
    "    r2 = r2_score(test_y, predicted_qualities)\n",
    "\n",
    "    print(\"Elasticnet model (alpha=%f, l1_ratio=%f):\" % (alpha, l1_ratio))\n",
    "    print(\"  RMSE: %s\" % rmse)\n",
    "    print(\"  MAE: %s\" % mae)\n",
    "    print(\"  R2: %s\" % r2)\n",
    "\n",
    "    # Log Parameters\n",
    "    mlflow.log_param(\"alpha\", alpha)\n",
    "    mlflow.log_param(\"l1_ratio\", l1_ratio)\n",
    "\n",
    "    # Log Metrics\n",
    "    mlflow.log_metric(\"rmse\", rmse)\n",
    "    mlflow.log_metric(\"r2\", r2)\n",
    "    mlflow.log_metric(\"mae\", mae)\n",
    "\n",
    "    # Log Model\n",
    "    mlflow.sklearn.log_model(lr, \"model\")"
   ]
  },
  {
   "cell_type": "markdown",
   "metadata": {
    "papermill": {
     "duration": 0.007064,
     "end_time": "2019-08-19T17:03:12.428568",
     "exception": false,
     "start_time": "2019-08-19T17:03:12.421504",
     "status": "completed"
    },
    "tags": []
   },
   "source": [
    "# Check the MLflow Pipelines Tab\n",
    "![MLflow Pipeline](https://raw.githubusercontent.com/PipelineAI/site/master/assets/img/mlflow-pipeline.png)"
   ]
  },
  {
   "cell_type": "code",
   "execution_count": null,
   "metadata": {
    "papermill": {
     "duration": 0.006532,
     "end_time": "2019-08-19T17:03:12.441897",
     "exception": false,
     "start_time": "2019-08-19T17:03:12.435365",
     "status": "completed"
    },
    "tags": []
   },
   "outputs": [],
   "source": []
  }
 ],
 "metadata": {
  "celltoolbar": "Tags",
  "kernelspec": {
   "display_name": "Python 3",
   "language": "python",
   "name": "python3"
  },
  "language_info": {
   "codemirror_mode": {
    "name": "ipython",
    "version": 3
   },
   "file_extension": ".py",
   "mimetype": "text/x-python",
   "name": "python",
   "nbconvert_exporter": "python",
   "pygments_lexer": "ipython3",
   "version": "3.6.8"
  },
  "papermill": {
   "duration": 3.446712,
   "end_time": "2019-08-19T17:03:13.060832",
   "environment_variables": {},
   "exception": null,
   "input_path": "14_MLflow_Scikit_Learn.ipynb",
   "output_path": "Generated_14_MLflow_Scikit_Learn_Results_02_02.ipynb",
   "parameters": {
    "alpha": 0.2,
    "l1_ratio": 0.2
   },
   "start_time": "2019-08-19T17:03:09.614120",
   "version": "1.0.1"
  }
 },
 "nbformat": 4,
 "nbformat_minor": 2
}