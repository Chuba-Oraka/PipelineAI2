{
 "cells": [
  {
   "cell_type": "code",
   "execution_count": 1,
   "metadata": {
    "papermill": {
     "duration": 1.268562,
     "end_time": "2019-08-19T17:01:39.338343",
     "exception": false,
     "start_time": "2019-08-19T17:01:38.069781",
     "status": "completed"
    },
    "tags": []
   },
   "outputs": [],
   "source": [
    "# The data set used in this example is from http://archive.ics.uci.edu/ml/datasets/Wine+Quality\n",
    "# P. Cortez, A. Cerdeira, F. Almeida, T. Matos and J. Reis.\n",
    "# Modeling wine preferences by data mining from physicochemical properties. In Decision Support Systems, Elsevier, 47(4):547-553, 2009.\n",
    "\n",
    "import os\n",
    "import warnings\n",
    "import sys\n",
    "\n",
    "import pandas as pd\n",
    "import numpy as np\n",
    "from sklearn.metrics import mean_squared_error, mean_absolute_error, r2_score\n",
    "from sklearn.model_selection import train_test_split\n",
    "from sklearn.linear_model import ElasticNet\n",
    "\n",
    "import mlflow\n",
    "import mlflow.sklearn\n",
    "\n",
    "np.random.seed(40)\n",
    "warnings.filterwarnings(\"ignore\")"
   ]
  },
  {
   "cell_type": "markdown",
   "metadata": {
    "papermill": {
     "duration": 0.007504,
     "end_time": "2019-08-19T17:01:39.358657",
     "exception": false,
     "start_time": "2019-08-19T17:01:39.351153",
     "status": "completed"
    },
    "tags": []
   },
   "source": [
    "# Setup Experiment Tracker"
   ]
  },
  {
   "cell_type": "code",
   "execution_count": 2,
   "metadata": {
    "papermill": {
     "duration": 0.021298,
     "end_time": "2019-08-19T17:01:39.386775",
     "exception": false,
     "start_time": "2019-08-19T17:01:39.365477",
     "status": "completed"
    },
    "tags": []
   },
   "outputs": [],
   "source": [
    "tracking_uri='file:///mnt/pipelineai/users/experiments'\n",
    "mlflow.set_tracking_uri(tracking_uri)\n",
    "\n",
    "experiment_name = 'wine'\n",
    "mlflow.set_experiment(experiment_name)    "
   ]
  },
  {
   "cell_type": "markdown",
   "metadata": {
    "papermill": {
     "duration": 0.00587,
     "end_time": "2019-08-19T17:01:39.398715",
     "exception": false,
     "start_time": "2019-08-19T17:01:39.392845",
     "status": "completed"
    },
    "tags": []
   },
   "source": [
    "# Import Training Data"
   ]
  },
  {
   "cell_type": "code",
   "execution_count": 3,
   "metadata": {
    "papermill": {
     "duration": 0.041202,
     "end_time": "2019-08-19T17:01:39.445820",
     "exception": false,
     "start_time": "2019-08-19T17:01:39.404618",
     "status": "completed"
    },
    "tags": []
   },
   "outputs": [],
   "source": [
    "# Read the wine-quality csv file (make sure you're running this from the root of MLflow!)\n",
    "wine_path = './datasets/wine-quality.csv'\n",
    "data = pd.read_csv(wine_path)\n",
    "\n",
    "# Split the data into training and test sets. (0.75, 0.25) split.\n",
    "train, test = train_test_split(data)\n",
    "\n",
    "# The predicted column is \"quality\" which is a scalar from [3, 9]\n",
    "train_x = train.drop([\"quality\"], axis=1)\n",
    "test_x = test.drop([\"quality\"], axis=1)\n",
    "train_y = train[[\"quality\"]]\n",
    "test_y = test[[\"quality\"]]"
   ]
  },
  {
   "cell_type": "markdown",
   "metadata": {
    "papermill": {
     "duration": 0.006413,
     "end_time": "2019-08-19T17:01:39.459687",
     "exception": false,
     "start_time": "2019-08-19T17:01:39.453274",
     "status": "completed"
    },
    "tags": []
   },
   "source": [
    "# Start Training Run"
   ]
  },
  {
   "cell_type": "code",
   "execution_count": 4,
   "metadata": {
    "papermill": {
     "duration": 0.016952,
     "end_time": "2019-08-19T17:01:39.482779",
     "exception": false,
     "start_time": "2019-08-19T17:01:39.465827",
     "status": "completed"
    },
    "tags": [
     "parameters"
    ]
   },
   "outputs": [],
   "source": [
    "alpha = 0.20\n",
    "l1_ratio = 0.20"
   ]
  },
  {
   "cell_type": "code",
   "execution_count": 5,
   "metadata": {
    "papermill": {
     "duration": 0.016147,
     "end_time": "2019-08-19T17:01:39.504744",
     "exception": false,
     "start_time": "2019-08-19T17:01:39.488597",
     "status": "completed"
    },
    "tags": [
     "injected-parameters"
    ]
   },
   "outputs": [],
   "source": [
    "# Parameters\n",
    "alpha = 0.6\n",
    "l1_ratio = 0.1\n"
   ]
  },
  {
   "cell_type": "code",
   "execution_count": 6,
   "metadata": {
    "papermill": {
     "duration": 0.386386,
     "end_time": "2019-08-19T17:01:39.897494",
     "exception": false,
     "start_time": "2019-08-19T17:01:39.511108",
     "status": "completed"
    },
    "tags": []
   },
   "outputs": [
    {
     "name": "stdout",
     "output_type": "stream",
     "text": [
      "Elasticnet model (alpha=0.600000, l1_ratio=0.200000):\n",
      "  RMSE: 0.8052136137150304\n",
      "  MAE: 0.622535932743478\n",
      "  R2: 0.1625823887208505\n"
     ]
    }
   ],
   "source": [
    "with mlflow.start_run() as run:\n",
    "    lr = ElasticNet(alpha=alpha, l1_ratio=l1_ratio, random_state=42)\n",
    "    lr.fit(train_x, train_y)\n",
    "\n",
    "    predicted_qualities = lr.predict(test_x)\n",
    "\n",
    "    rmse = np.sqrt(mean_squared_error(test_y, predicted_qualities))\n",
    "    mae = mean_absolute_error(test_y, predicted_qualities)\n",
    "    r2 = r2_score(test_y, predicted_qualities)\n",
    "\n",
    "    print(\"Elasticnet model (alpha=%f, l1_ratio=%f):\" % (alpha, l1_ratio))\n",
    "    print(\"  RMSE: %s\" % rmse)\n",
    "    print(\"  MAE: %s\" % mae)\n",
    "    print(\"  R2: %s\" % r2)\n",
    "\n",
    "    # Log Parameters\n",
    "    mlflow.log_param(\"alpha\", alpha)\n",
    "    mlflow.log_param(\"l1_ratio\", l1_ratio)\n",
    "\n",
    "    # Log Metrics\n",
    "    mlflow.log_metric(\"rmse\", rmse)\n",
    "    mlflow.log_metric(\"r2\", r2)\n",
    "    mlflow.log_metric(\"mae\", mae)\n",
    "\n",
    "    # Log Model\n",
    "    mlflow.sklearn.log_model(lr, \"model\")"
   ]
  },
  {
   "cell_type": "markdown",
   "metadata": {
    "papermill": {
     "duration": 0.006871,
     "end_time": "2019-08-19T17:01:39.912335",
     "exception": false,
     "start_time": "2019-08-19T17:01:39.905464",
     "status": "completed"
    },
    "tags": []
   },
   "source": [
    "# Check the MLflow Pipelines Tab\n",
    "![MLflow Pipeline](https://raw.githubusercontent.com/PipelineAI/site/master/assets/img/mlflow-pipeline.png)"
   ]
  },
  {
   "cell_type": "code",
   "execution_count": null,
   "metadata": {
    "papermill": {
     "duration": 0.005961,
     "end_time": "2019-08-19T17:01:39.924647",
     "exception": false,
     "start_time": "2019-08-19T17:01:39.918686",
     "status": "completed"
    },
    "tags": []
   },
   "outputs": [],
   "source": []
  }
 ],
 "metadata": {
  "celltoolbar": "Tags",
  "kernelspec": {
   "display_name": "Python 3",
   "language": "python",
   "name": "python3"
  },
  "language_info": {
   "codemirror_mode": {
    "name": "ipython",
    "version": 3
   },
   "file_extension": ".py",
   "mimetype": "text/x-python",
   "name": "python",
   "nbconvert_exporter": "python",
   "pygments_lexer": "ipython3",
   "version": "3.6.8"
  },
  "papermill": {
   "duration": 3.374202,
   "end_time": "2019-08-19T17:01:40.641478",
   "environment_variables": {},
   "exception": null,
   "input_path": "14_MLflow_Scikit_Learn.ipynb",
   "output_path": "Generated_14_MLflow_Scikit_Learn_Results_06_01.ipynb",
   "parameters": {
    "alpha": 0.6,
    "ratio": 0.1
   },
   "start_time": "2019-08-19T17:01:37.267276",
   "version": "1.0.1"
  }
 },
 "nbformat": 4,
 "nbformat_minor": 2
}
