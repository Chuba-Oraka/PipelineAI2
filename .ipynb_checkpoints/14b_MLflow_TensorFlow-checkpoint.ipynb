{
 "cells": [
  {
   "cell_type": "code",
   "execution_count": 1,
   "metadata": {},
   "outputs": [
    {
     "name": "stderr",
     "output_type": "stream",
     "text": [
      "/opt/conda/lib/python3.6/site-packages/tensorflow/python/framework/dtypes.py:526: FutureWarning: Passing (type, 1) or '1type' as a synonym of type is deprecated; in a future version of numpy, it will be understood as (type, (1,)) / '(1,)type'.\n",
      "  _np_qint8 = np.dtype([(\"qint8\", np.int8, 1)])\n",
      "/opt/conda/lib/python3.6/site-packages/tensorflow/python/framework/dtypes.py:527: FutureWarning: Passing (type, 1) or '1type' as a synonym of type is deprecated; in a future version of numpy, it will be understood as (type, (1,)) / '(1,)type'.\n",
      "  _np_quint8 = np.dtype([(\"quint8\", np.uint8, 1)])\n",
      "/opt/conda/lib/python3.6/site-packages/tensorflow/python/framework/dtypes.py:528: FutureWarning: Passing (type, 1) or '1type' as a synonym of type is deprecated; in a future version of numpy, it will be understood as (type, (1,)) / '(1,)type'.\n",
      "  _np_qint16 = np.dtype([(\"qint16\", np.int16, 1)])\n",
      "/opt/conda/lib/python3.6/site-packages/tensorflow/python/framework/dtypes.py:529: FutureWarning: Passing (type, 1) or '1type' as a synonym of type is deprecated; in a future version of numpy, it will be understood as (type, (1,)) / '(1,)type'.\n",
      "  _np_quint16 = np.dtype([(\"quint16\", np.uint16, 1)])\n",
      "/opt/conda/lib/python3.6/site-packages/tensorflow/python/framework/dtypes.py:530: FutureWarning: Passing (type, 1) or '1type' as a synonym of type is deprecated; in a future version of numpy, it will be understood as (type, (1,)) / '(1,)type'.\n",
      "  _np_qint32 = np.dtype([(\"qint32\", np.int32, 1)])\n",
      "/opt/conda/lib/python3.6/site-packages/tensorflow/python/framework/dtypes.py:535: FutureWarning: Passing (type, 1) or '1type' as a synonym of type is deprecated; in a future version of numpy, it will be understood as (type, (1,)) / '(1,)type'.\n",
      "  np_resource = np.dtype([(\"resource\", np.ubyte, 1)])\n"
     ]
    }
   ],
   "source": [
    "'''Trains and evaluate a simple MLP\n",
    "on the Reuters newswire topic classification task.\n",
    "'''\n",
    "from __future__ import print_function\n",
    "\n",
    "import pandas as pd\n",
    "import tensorflow as tf\n",
    "from tensorflow.python.saved_model import tag_constants\n",
    "\n",
    "import mlflow\n",
    "import mlflow.tensorflow\n",
    "from mlflow import pyfunc"
   ]
  },
  {
   "cell_type": "markdown",
   "metadata": {},
   "source": [
    "# Setup Experiment Tracker"
   ]
  },
  {
   "cell_type": "code",
   "execution_count": 3,
   "metadata": {},
   "outputs": [],
   "source": [
    "tracking_uri='file:///mnt/pipelineai/users/experiments'\n",
    "mlflow.set_tracking_uri(tracking_uri)\n",
    "\n",
    "experiment_name = 'boston'\n",
    "mlflow.set_experiment(experiment_name)  \n",
    "\n",
    "import mlflow.tensorflow\n",
    "mlflow.tensorflow.autolog()"
   ]
  },
  {
   "cell_type": "markdown",
   "metadata": {},
   "source": [
    "# Import Training Data "
   ]
  },
  {
   "cell_type": "code",
   "execution_count": 4,
   "metadata": {},
   "outputs": [
    {
     "name": "stdout",
     "output_type": "stream",
     "text": [
      "INFO:tensorflow:Using default config.\n",
      "WARNING:tensorflow:Using temporary folder as model directory: /tmp/tmpgtxi9wir\n",
      "INFO:tensorflow:Using config: {'_model_dir': '/tmp/tmpgtxi9wir', '_tf_random_seed': None, '_save_summary_steps': 100, '_save_checkpoints_steps': None, '_save_checkpoints_secs': 600, '_session_config': allow_soft_placement: true\n",
      "graph_options {\n",
      "  rewrite_options {\n",
      "    meta_optimizer_iterations: ONE\n",
      "  }\n",
      "}\n",
      ", '_keep_checkpoint_max': 5, '_keep_checkpoint_every_n_hours': 10000, '_log_step_count_steps': 100, '_train_distribute': None, '_device_fn': None, '_protocol': None, '_eval_distribute': None, '_experimental_distribute': None, '_service': None, '_cluster_spec': <tensorflow.python.training.server_lib.ClusterSpec object at 0x7f9d557bcc18>, '_task_type': 'worker', '_task_id': 0, '_global_id_in_cluster': 0, '_master': '', '_evaluation_master': '', '_is_chief': True, '_num_ps_replicas': 0, '_num_worker_replicas': 1}\n"
     ]
    }
   ],
   "source": [
    "# Builds, trains and evaluates a tf.estimator. Then, exports it for inference, logs the exported model\n",
    "# with MLflow, and loads the fitted model back as a PyFunc to make predictions.\n",
    "(x_train, y_train), (x_test, y_test) = tf.keras.datasets.boston_housing.load_data()\n",
    "# There are 13 features we are using for inference.\n",
    "feat_cols = [tf.feature_column.numeric_column(key=\"features\", shape=(x_train.shape[1],))]\n",
    "feat_spec = {\n",
    "    \"features\": tf.placeholder(\"float\", name=\"features\", shape=[None, x_train.shape[1]])}\n",
    "hidden_units = [50, 20]\n",
    "steps = 1000\n",
    "regressor = tf.estimator.DNNRegressor(hidden_units=hidden_units, feature_columns=feat_cols)\n",
    "train_input_fn = tf.estimator.inputs.numpy_input_fn({\"features\": x_train}, y_train,\n",
    "                                                    num_epochs=None, shuffle=True)"
   ]
  },
  {
   "cell_type": "markdown",
   "metadata": {},
   "source": [
    "# Start Training Run"
   ]
  },
  {
   "cell_type": "code",
   "execution_count": null,
   "metadata": {},
   "outputs": [],
   "source": [
    "with mlflow.start_run() as run:\n",
    "    mlflow.log_param(\"Hidden Units\", hidden_units)\n",
    "    mlflow.log_param(\"Steps\", steps)\n",
    "    regressor.train(train_input_fn, steps=steps)\n",
    "    test_input_fn = tf.estimator.inputs.numpy_input_fn({\"features\": x_test}, y_test,\n",
    "                                                       num_epochs=None, shuffle=True)\n",
    "    # Compute mean squared error\n",
    "    mse = regressor.evaluate(test_input_fn, steps=steps)\n",
    "    mlflow.log_metric(\"Mean Square Error\", mse['average_loss'])\n",
    "    # Building a receiver function for exporting\n",
    "    receiver_fn = tf.estimator.export.build_raw_serving_input_receiver_fn(feat_spec)\n",
    "    \n",
    "    saved_estimator_path = regressor.export_savedmodel('./saved-models/boston', receiver_fn).decode(\"utf-8\")\n",
    "    # Logging the saved model\n",
    "    mlflow.tensorflow.log_model(tf_saved_model_dir=saved_estimator_path,\n",
    "                                tf_meta_graph_tags=[tag_constants.SERVING],\n",
    "                                tf_signature_def_key=\"predict\",\n",
    "                                artifact_path=\"model\")    "
   ]
  },
  {
   "cell_type": "markdown",
   "metadata": {},
   "source": [
    "# Predict with the Model"
   ]
  },
  {
   "cell_type": "code",
   "execution_count": null,
   "metadata": {
    "scrolled": true
   },
   "outputs": [],
   "source": [
    "# Resume the run by passing run id from above\n",
    "with mlflow.start_run(run_id=run.info.run_id) as run:\n",
    "    # Reload the model and predict\n",
    "    pyfunc_model = mlflow.pyfunc.load_model(mlflow.get_artifact_uri('model'))\n",
    "\n",
    "    # Predict with the loaded Python Function\n",
    "    df = pd.DataFrame(data=x_test, columns=[\"features\"] * x_train.shape[1])\n",
    "    predict_df = pyfunc_model.predict(df)\n",
    "    predict_df['original_labels'] = y_test\n",
    "    print(predict_df)"
   ]
  },
  {
   "cell_type": "markdown",
   "metadata": {},
   "source": [
    "# Check the MLflow Pipelines Tab\n",
    "![MLflow Pipeline](https://raw.githubusercontent.com/PipelineAI/site/master/assets/img/mlflow-pipeline3.png)"
   ]
  },
  {
   "cell_type": "code",
   "execution_count": null,
   "metadata": {},
   "outputs": [],
   "source": []
  }
 ],
 "metadata": {
  "kernelspec": {
   "display_name": "Python 3",
   "language": "python",
   "name": "python3"
  },
  "language_info": {
   "codemirror_mode": {
    "name": "ipython",
    "version": 3
   },
   "file_extension": ".py",
   "mimetype": "text/x-python",
   "name": "python",
   "nbconvert_exporter": "python",
   "pygments_lexer": "ipython3",
   "version": "3.6.8"
  }
 },
 "nbformat": 4,
 "nbformat_minor": 2
}
