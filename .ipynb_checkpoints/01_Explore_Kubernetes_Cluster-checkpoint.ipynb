{
 "cells": [
  {
   "cell_type": "markdown",
   "metadata": {},
   "source": [
    "# `kubectl` Kubernetes CLI"
   ]
  },
  {
   "cell_type": "code",
   "execution_count": 1,
   "metadata": {},
   "outputs": [
    {
     "name": "stdout",
     "output_type": "stream",
     "text": [
      "NAME                                                        READY   STATUS    RESTARTS   AGE\r\n",
      "airflow-86c8f64688-frgwv                                    1/1     Running   0          12d\r\n",
      "allocator-jgpvg                                             1/1     Running   0          56m\r\n",
      "ambassador-784d4d757-gb294                                  1/1     Running   0          11d\r\n",
      "argo-ui-79bc9fd978-gp6x6                                    1/1     Running   0          11d\r\n",
      "centraldashboard-696b459cbf-dtj9f                           1/1     Running   0          9d\r\n",
      "community-0                                                 1/1     Running   0          31m\r\n",
      "dash-7b48d8b579-p9vt6                                       2/2     Running   0          12d\r\n",
      "etcd-55b4545687-8g6jw                                       1/1     Running   0          12d\r\n",
      "jupyter-web-app-6f946577d5-vq9zt                            1/1     Running   0          11d\r\n",
      "katib-ui-54b8484d4b-tf8zw                                   1/1     Running   0          11d\r\n",
      "metacontroller-0                                            1/1     Running   0          11d\r\n",
      "minio-5f6b9b5b7-hj7nv                                       1/1     Running   0          11d\r\n",
      "ml-pipeline-565f658579-s8cpz                                1/1     Running   0          11d\r\n",
      "ml-pipeline-persistenceagent-c56c89b98-tprtz                1/1     Running   1          11d\r\n",
      "ml-pipeline-scheduledworkflow-855c759488-kj88h              1/1     Running   0          11d\r\n",
      "ml-pipeline-ui-5bd6b6dd4-jwvqq                              1/1     Running   0          11d\r\n",
      "ml-pipeline-viewer-controller-deployment-5b997b657d-dq6rk   1/1     Running   0          11d\r\n",
      "mlflow-d65d787cf-vjkd9                                      1/1     Running   0          12d\r\n",
      "mnist-9txwx-3257065679                                      0/2     Error     0          40m\r\n",
      "mysql-657f87857d-cbzpv                                      1/1     Running   0          11d\r\n",
      "mysql-master-555564cd64-9mgbt                               1/1     Running   0          12d\r\n",
      "notebooks-controller-794cd5fdd9-l5t2m                       1/1     Running   0          11d\r\n",
      "pipeline-pre-process-v1-dnpq8                               2/2     Running   0          12d\r\n",
      "pipeline-train-v1-4x9hl                                     2/2     Running   0          12d\r\n",
      "pytorch-operator-7c457c66fb-nhdnb                           1/1     Running   0          11d\r\n",
      "redis-master-c67856db-qqh6p                                 1/1     Running   0          12d\r\n",
      "seldon-operator-controller-manager-0                        1/1     Running   1          11d\r\n",
      "studyjob-controller-6965c8c85-7c8ml                         1/1     Running   0          11d\r\n",
      "tensorboard-5cd9974897-hpkqk                                1/1     Running   0          11d\r\n",
      "tf-job-dashboard-dcbbd9f88-gmjgx                            1/1     Running   0          11d\r\n",
      "tf-job-operator-899b8475f-gshlm                             1/1     Running   0          11d\r\n",
      "vizier-core-5c654c5666-tkhh5                                1/1     Running   0          11d\r\n",
      "vizier-core-rest-7b9d769b9d-kn4kv                           1/1     Running   0          11d\r\n",
      "vizier-db-68f977d674-hg8bj                                  1/1     Running   0          11d\r\n",
      "vizier-suggestion-bayesianoptimization-867fdb7fb8-2t77c     1/1     Running   0          11d\r\n",
      "vizier-suggestion-grid-fd5848d7d-7d2l5                      1/1     Running   0          11d\r\n",
      "vizier-suggestion-hyperband-756db8787d-tjwqg                1/1     Running   0          11d\r\n",
      "vizier-suggestion-random-675f7bfbc6-p6qpg                   1/1     Running   0          11d\r\n",
      "workflow-controller-7875d846f-x8tg9                         1/1     Running   0          11d\r\n"
     ]
    }
   ],
   "source": [
    "!kubectl get pod"
   ]
  },
  {
   "cell_type": "code",
   "execution_count": null,
   "metadata": {},
   "outputs": [],
   "source": [
    "!kubectl describe pod community-0"
   ]
  },
  {
   "cell_type": "code",
   "execution_count": null,
   "metadata": {},
   "outputs": [],
   "source": [
    "!kubectl logs notebooks-controller-794cd5fdd9-l5t2m "
   ]
  },
  {
   "cell_type": "code",
   "execution_count": null,
   "metadata": {},
   "outputs": [],
   "source": []
  }
 ],
 "metadata": {
  "kernelspec": {
   "display_name": "Python 3",
   "language": "python",
   "name": "python3"
  },
  "language_info": {
   "codemirror_mode": {
    "name": "ipython",
    "version": 3
   },
   "file_extension": ".py",
   "mimetype": "text/x-python",
   "name": "python",
   "nbconvert_exporter": "python",
   "pygments_lexer": "ipython3",
   "version": "3.6.8"
  }
 },
 "nbformat": 4,
 "nbformat_minor": 2
}
